{
 "cells": [
  {
   "cell_type": "code",
   "execution_count": 1,
   "metadata": {},
   "outputs": [],
   "source": [
    "# stdlib imports\n",
    "from datetime import datetime\n",
    "import os\n",
    "import re\n",
    "import warnings\n",
    "import sys\n",
    "import scipy.constants as sp\n",
    "import pandas as pd\n",
    "\n",
    "# third party\n",
    "from obspy.core.trace import Trace\n",
    "from obspy.core.stream import Stream\n",
    "from obspy.core.trace import Stats\n",
    "import numpy as np\n",
    "from scipy import integrate\n",
    "import matplotlib.pyplot as plt\n",
    "\n",
    "import processing\n",
    "import arias_intensity"
   ]
  },
  {
   "cell_type": "code",
   "execution_count": 2,
   "metadata": {},
   "outputs": [],
   "source": [
    "data_dir = '/Users/tnye/PROJECTS/Duration/data/ci3144585/ground_motion'\n",
    "file_names = ['1994.c.017m30su.n0a',\n",
    "              '1994.c.017m30su.n0b',\n",
    "              '1994.c.017m30su.n0c']\n",
    "files = [os.path.join(data_dir, f) for f in file_names]\n",
    "stream = Stream()\n",
    "\n",
    "for i in range(len(files)):\n",
    "    cmp = processing.read_data(files[i], units='acc')[0]\n",
    "    stream.append(cmp)\n",
    "    \n",
    "for i, trace in enumerate(stream):\n",
    "    trace_stats = trace.stats\n",
    "    channel = trace.stats['channel']\n",
    "    dt = trace_stats.delta\n",
    "\n",
    "acc = trace.data"
   ]
  },
  {
   "cell_type": "code",
   "execution_count": null,
   "metadata": {},
   "outputs": [],
   "source": []
  },
  {
   "cell_type": "code",
   "execution_count": null,
   "metadata": {},
   "outputs": [],
   "source": []
  },
  {
   "cell_type": "code",
   "execution_count": 3,
   "metadata": {},
   "outputs": [],
   "source": [
    "from obspy.core.trace import Trace\n",
    "from obspy.core.stream import Stream\n",
    "from obspy.core.trace import Stats\n",
    "from amptools.io.knet.core import read_knet\n",
    "from amptools.stream import group_channels\n",
    "from obspy.core.stream import Stream\n",
    "from obspy import UTCDateTime\n",
    "\n",
    "import glob\n",
    "import os\n",
    "\n",
    "import sys\n",
    "from libcomcat.search import get_event_by_id\n",
    "from obspy.geodetics import gps2dist_azimuth, kilometers2degrees\n",
    "from obspy.taup import TauPyModel\n",
    "\n",
    "stream = Stream()\n",
    "trace = Trace()"
   ]
  },
  {
   "cell_type": "code",
   "execution_count": 6,
   "metadata": {},
   "outputs": [],
   "source": [
    "# read knet\n",
    "from obspy import read \n",
    "\n",
    "os.chdir(\"/Users/tnye/PROJECTS/Duration/data/usp000a1b0/ground_motion/knt\")\n",
    "types = ('*.EW', '*.NS', '*.UD')\n",
    "files_grabbed = []\n",
    "for files in types:\n",
    "    files_grabbed.extend(glob.glob(files))\n",
    "\n",
    "data = []\n",
    "for i in range(len(files_grabbed)):\n",
    "    data.append(read(files_grabbed[i]))\n",
    "\n",
    "stations = group_channels(data)"
   ]
  },
  {
   "cell_type": "code",
   "execution_count": 7,
   "metadata": {},
   "outputs": [],
   "source": [
    "station_stats = []\n",
    "for i in range(len(stations)):\n",
    "    station = stations[i]\n",
    "    trace = station[0]\n",
    "    name = trace.stats['station']\n",
    "    lat = trace.stats['knet']['stla']\n",
    "    lon = trace.stats['knet']['stlo']\n",
    "    elev = trace.stats['knet']['evlo']\n",
    "    station_stats.append([name, lat, lon, elev])"
   ]
  },
  {
   "cell_type": "code",
   "execution_count": 8,
   "metadata": {},
   "outputs": [
    {
     "name": "stdout",
     "output_type": "stream",
     "text": [
      "2000-10-06T04:30:19.150000Z\n"
     ]
    }
   ],
   "source": [
    "# earthquake data\n",
    "event_id = 'usp000a1b0'\n",
    "detail = get_event_by_id(event_id)\n",
    "date = UTCDateTime(detail.time)\n",
    "mag = detail.magnitude\n",
    "lat = detail.latitude\n",
    "lon = detail.longitude\n",
    "source_coords = [lat, lon]\n",
    "depth = detail.depth\n",
    "print(date)"
   ]
  },
  {
   "cell_type": "code",
   "execution_count": 9,
   "metadata": {},
   "outputs": [],
   "source": [
    "# append station stats \n",
    "model = TauPyModel(model=\"iasp91\")\n",
    "station_dist = []           # unsorted\n",
    "p_arrivals = []             # unsorted\n",
    "for sta in stations:\n",
    "    distances = []\n",
    "    arrivals = []\n",
    "    for i in range(len(sta)):\n",
    "        trace = sta[i]\n",
    "        dkm = gps2dist_azimuth(trace.stats['knet']['stla'],\n",
    "                                trace.stats['knet']['stlo'],\n",
    "                                source_coords[0], source_coords[1])\n",
    "        dkm = dkm[0] / 1000.0\n",
    "        dd = kilometers2degrees(dkm)\n",
    "        p = model.get_travel_times(depth, dd, phase_list=['p', 'P'])\n",
    "        \n",
    "        trace.stats.rdist = dkm    \n",
    "        trace.stats.P_arriv = p[0].time\n",
    "        distances.append(dkm)\n",
    "        arrivals.append(p)\n",
    "    station_dist.append(distances[0])\n",
    "    p_arrivals.append(arrivals[0])"
   ]
  },
  {
   "cell_type": "code",
   "execution_count": null,
   "metadata": {},
   "outputs": [],
   "source": []
  },
  {
   "cell_type": "code",
   "execution_count": 10,
   "metadata": {},
   "outputs": [],
   "source": [
    "import matplotlib.pyplot as plt\n",
    "from obspy import read\n",
    "from matplotlib.dates import date2num\n",
    "from matplotlib.pyplot import close\n",
    "import warnings\n",
    "warnings.filterwarnings('ignore')"
   ]
  },
  {
   "cell_type": "code",
   "execution_count": 11,
   "metadata": {},
   "outputs": [],
   "source": [
    "stz = Stream()\n",
    "for sta in stations:\n",
    "    newtrace = sta.select(channel='UD')\n",
    "    #newtrace[0].stats.starttime = newtrace[0].stats.starttime - 9.*3600\n",
    "    stz += newtrace\n",
    "    \n",
    "sorted_stz = stz.sort(keys=['rdist'])"
   ]
  },
  {
   "cell_type": "code",
   "execution_count": 45,
   "metadata": {},
   "outputs": [
    {
     "data": {
      "text/plain": [
       "<function matplotlib.pyplot.show(*args, **kw)>"
      ]
     },
     "execution_count": 45,
     "metadata": {},
     "output_type": "execute_result"
    },
    {
     "data": {
      "image/png": "[encoded data removed]",
      "text/plain": [
       "<Figure size 432x288 with 2 Axes>"
      ]
     },
     "metadata": {},
     "output_type": "display_data"
    }
   ],
   "source": [
    "new_sorted = sorted_stz[199:201]\n",
    "\n",
    "fig = plt.figure()\n",
    "new_sorted.plot(fig=fig, show=False)\n",
    "for i in range(len(new_sorted)):\n",
    "    p_onset = date + new_sorted[i].stats['P_arriv']\n",
    "    \n",
    "    ax = fig.axes[i]\n",
    "    ax.axvline(date2num(p_onset.datetime), lw=2)\n",
    "plt.show"
   ]
  },
  {
   "cell_type": "code",
   "execution_count": 17,
   "metadata": {},
   "outputs": [],
   "source": [
    "close('all')"
   ]
  },
  {
   "cell_type": "code",
   "execution_count": 14,
   "metadata": {},
   "outputs": [],
   "source": [
    "#print(Stream.__str__(sorted_stz, extended=True))"
   ]
  },
  {
   "cell_type": "code",
   "execution_count": 51,
   "metadata": {},
   "outputs": [
    {
     "name": "stdout",
     "output_type": "stream",
     "text": [
      "303\n"
     ]
    }
   ],
   "source": [
    "for sta in sorted_stz:\n",
    "    sta = trace\n",
    "    p_onset = date + trace.stats['P_arriv']\n",
    "    if (trace.stats['starttime'] - p_onset) > 2:\n",
    "        sorted_stz.remove(trace)\n",
    "print(len(sorted_stz))"
   ]
  },
  {
   "cell_type": "code",
   "execution_count": 50,
   "metadata": {},
   "outputs": [
    {
     "name": "stdout",
     "output_type": "stream",
     "text": [
      "FKI002\n",
      "21.337774\n"
     ]
    }
   ],
   "source": [
    "i = 199\n",
    "print(sorted_stz[i].stats['station'])\n",
    "p_onset = date + sorted_stz[i].stats['P_arriv']\n",
    "print(sorted_stz[i].stats['starttime'] - p_onset)"
   ]
  },
  {
   "cell_type": "code",
   "execution_count": 56,
   "metadata": {},
   "outputs": [
    {
     "name": "stdout",
     "output_type": "stream",
     "text": [
      "730399.1880840131\n"
     ]
    }
   ],
   "source": [
    "print(date2num(p_onset.datetime))"
   ]
  },
  {
   "cell_type": "code",
   "execution_count": null,
   "metadata": {},
   "outputs": [],
   "source": []
  }
 ],
 "metadata": {
  "kernelspec": {
   "display_name": "Python 3",
   "language": "python",
   "name": "python3"
  },
  "language_info": {
   "codemirror_mode": {
    "name": "ipython",
    "version": 3
   },
   "file_extension": ".py",
   "mimetype": "text/x-python",
   "name": "python",
   "nbconvert_exporter": "python",
   "pygments_lexer": "ipython3",
   "version": "3.5.5"
  }
 },
 "nbformat": 4,
 "nbformat_minor": 2
}
