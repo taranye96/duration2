{
 "cells": [
  {
   "cell_type": "code",
   "execution_count": 1,
   "metadata": {},
   "outputs": [],
   "source": [
    "# stdlib imports\n",
    "from datetime import datetime\n",
    "import os\n",
    "import re\n",
    "import warnings\n",
    "import sys\n",
    "import glob\n",
    "import math\n",
    "import scipy.constants as sp\n",
    "import pandas as pd\n",
    "\n",
    "from obspy.core.trace import Trace\n",
    "from obspy.core.stream import Stream\n",
    "from obspy.core.trace import Stats\n",
    "import numpy as np\n",
    "from scipy import integrate\n",
    "import matplotlib.pyplot as plt\n",
    "import processing\n",
    "import arias_intensity\n",
    "import CAV\n",
    "from amptools.io.knet.core import read_knet\n",
    "from amptools.stream import group_channels\n",
    "from obspy import UTCDateTime\n",
    "from libcomcat.search import get_event_by_id\n",
    "from obspy.geodetics import gps2dist_azimuth, kilometers2degrees\n",
    "from obspy.taup import TauPyModel\n",
    "from obspy import read\n",
    "from matplotlib.dates import date2num\n",
    "from matplotlib.pyplot import close\n",
    "from collections import OrderedDict\n",
    "warnings.filterwarnings('ignore')"
   ]
  },
  {
   "cell_type": "markdown",
   "metadata": {},
   "source": [
    "Northridge Earthquake"
   ]
  },
  {
   "cell_type": "code",
   "execution_count": 2,
   "metadata": {},
   "outputs": [],
   "source": [
    "data_dir = '/Users/tnye/PROJECTS/Duration/data/ci3144585/ground_motion'\n",
    "file_names = ['1994.c.017m30su.n0a',\n",
    "              '1994.c.017m30su.n0b',\n",
    "              '1994.c.017m30su.n0c']\n",
    "files = [os.path.join(data_dir, f) for f in file_names]\n",
    "stream = Stream()\n",
    "\n",
    "for i in range(len(files)):\n",
    "    cmp = processing.read_data(files[i], units='acc')[0]\n",
    "    stream.append(cmp)\n",
    "    \n",
    "for i, trace in enumerate(stream):\n",
    "    trace_stats = trace.stats\n",
    "    channel = trace.stats['channel']\n",
    "    dt = trace_stats.delta\n",
    "\n",
    "acc = trace.data"
   ]
  },
  {
   "cell_type": "code",
   "execution_count": 3,
   "metadata": {},
   "outputs": [],
   "source": [
    "os.chdir('/Users/tnye/PROJECTS/Duration/data/ci3144585/ground_motion')\n",
    "types = ('*.n0a', '*.n0b', '*.n0c')\n",
    "station = []\n",
    "for files in types:\n",
    "    station.extend(glob.glob(files))\n",
    "\n",
    "stream = Stream()\n",
    "\n",
    "for i in range(len(station)):\n",
    "    cmp = processing.read_data(station[i], units='acc')[0]\n",
    "    stream.append(cmp)"
   ]
  },
  {
   "cell_type": "markdown",
   "metadata": {},
   "source": [
    "Read Knet Data"
   ]
  },
  {
   "cell_type": "code",
   "execution_count": 4,
   "metadata": {},
   "outputs": [],
   "source": [
    "stream = Stream()\n",
    "trace = Trace()\n",
    "\n",
    "from obspy import read \n",
    "\n",
    "os.chdir(\"/Users/tnye/PROJECTS/Duration/data/usp000a1b0/ground_motion/knt\")\n",
    "types = ('*.EW', '*.NS', '*.UD')\n",
    "files_grabbed = []\n",
    "for files in types:\n",
    "    files_grabbed.extend(glob.glob(files))\n",
    "\n",
    "data = []\n",
    "for i in range(len(files_grabbed)):\n",
    "    data.append(read(files_grabbed[i]))\n",
    "    \n",
    "names = pd.read_csv('/Users/tnye/PROJECTS/Duration/data/usp000a1b0/ground_motion/knt/filt_stations_knt_usp000a1b0.csv')\n",
    "names_list = names.to_string(index = False)\n",
    "filtered_files = []\n",
    "for st in data:\n",
    "    for i in range(len(st)):\n",
    "        trace = st[i]\n",
    "        if trace.stats.station in names_list:\n",
    "            filtered_files.append([trace])\n",
    "\n",
    "stations = group_channels(filtered_files)\n",
    "\n",
    "for sta in stations:\n",
    "    sta.detrend('demean')\n",
    "\n",
    "# Add calibration to get data into gals (sm/s^2)\n",
    "for sta in stations:\n",
    "    for i in range(len(sta)):\n",
    "        trace = sta[i]\n",
    "        trace.data = trace.data * trace.stats.calib * 100\n",
    "\n",
    "# Set calibration to 1 to avoid double calibration when plotting.\n",
    "for sta in stations:\n",
    "    for i in range(len(sta)):\n",
    "        trace = sta[i]\n",
    "        trace.stats.calib = 1"
   ]
  },
  {
   "cell_type": "code",
   "execution_count": 5,
   "metadata": {},
   "outputs": [],
   "source": [
    "station_stats = []\n",
    "for i in range(len(stations)):\n",
    "    station = stations[i]\n",
    "    trace = station[0]\n",
    "    name = trace.stats['station']\n",
    "    stat_lat = trace.stats['knet']['stla']\n",
    "    stat_lon = trace.stats['knet']['stlo']\n",
    "    elev = trace.stats['knet']['evlo']\n",
    "    station_stats.append([name, stat_lat, stat_lon, elev])"
   ]
  },
  {
   "cell_type": "markdown",
   "metadata": {},
   "source": [
    "Get Earthquake Data"
   ]
  },
  {
   "cell_type": "code",
   "execution_count": 6,
   "metadata": {},
   "outputs": [],
   "source": [
    "event_id = 'usp000a1b0'\n",
    "detail = get_event_by_id(event_id)\n",
    "date = UTCDateTime(detail.time)\n",
    "mag = detail.magnitude\n",
    "source_lat = detail.latitude\n",
    "source_lon = detail.longitude\n",
    "depth = detail.depth\n",
    "\n",
    "# Add event stats to each trace in each station\n",
    "for sta in stations:\n",
    "    for i in range(len(sta)):\n",
    "        trace = sta[i]\n",
    "        eventID = event_id\n",
    "        magnitude = mag\n",
    "        source_depth = depth\n",
    "        event_lat = source_lat\n",
    "        event_lon = source_lon\n",
    "        \n",
    "        trace.stats.eventID = eventID\n",
    "        trace.stats.mag = magnitude\n",
    "        trace.stats.source_depth = source_depth\n",
    "        trace.stats.source_lat = event_lat\n",
    "        trace.stats.source_lon = event_lon"
   ]
  },
  {
   "cell_type": "markdown",
   "metadata": {},
   "source": [
    "Add Distance and P-arrivals to trace stats"
   ]
  },
  {
   "cell_type": "code",
   "execution_count": 7,
   "metadata": {},
   "outputs": [],
   "source": [
    "model = TauPyModel(model=\"iasp91\")\n",
    "for sta in stations:\n",
    "    for i in range(len(sta)):\n",
    "        trace = sta[i]\n",
    "        \n",
    "        # Compute distance\n",
    "        dist_az_baz = gps2dist_azimuth(\n",
    "            trace.stats['knet']['stla'],\n",
    "            trace.stats['knet']['stlo'],\n",
    "            trace.stats['knet']['evla'], \n",
    "            trace.stats['knet']['evlo'])\n",
    "        distance_meters = dist_az_baz[0]\n",
    "        distance_km = distance_meters/1000.0\n",
    "        dd = kilometers2degrees(distance_km)\n",
    "        #trace.stats.distance = distance_meters\n",
    "        trace.stats.rdist = distance_km\n",
    "        \n",
    "        # Estimated travel time for p wave\n",
    "        p = model.get_travel_times(depth, dd, phase_list=['p', 'P'])\n",
    "        trace.stats.P_arriv = p[0].time"
   ]
  },
  {
   "cell_type": "code",
   "execution_count": 8,
   "metadata": {},
   "outputs": [],
   "source": [
    "test = Stream()\n",
    "for sta in stations:\n",
    "    newtrace = sta.select(channel='NS')\n",
    "    test += newtrace\n",
    "\n",
    "sorted_test = test.sort(keys=['rdist'])"
   ]
  },
  {
   "cell_type": "markdown",
   "metadata": {},
   "source": [
    "Plot PGA vs distance from Source"
   ]
  },
  {
   "cell_type": "code",
   "execution_count": 9,
   "metadata": {},
   "outputs": [],
   "source": [
    "max_acc = []\n",
    "dist_source = []\n",
    "for trace in sorted_test:\n",
    "    max = trace.stats.knet.accmax\n",
    "    dist = trace.stats.rdist\n",
    "    max_acc.append(max)\n",
    "    dist_source.append(dist)\n",
    "\n",
    "PGA = np.array(max_acc)\n",
    "DIST = np.array(dist_source)"
   ]
  },
  {
   "cell_type": "code",
   "execution_count": 10,
   "metadata": {},
   "outputs": [
    {
     "data": {
      "image/png": "[encoded data removed]",
      "text/plain": [
       "<Figure size 360x288 with 1 Axes>"
      ]
     },
     "metadata": {},
     "output_type": "display_data"
    }
   ],
   "source": [
    "fig = plt.figure(figsize=(5,4))\n",
    "ax = fig.add_subplot(111)\n",
    "plt.scatter(DIST, PGA)\n",
    "plt.yscale('log')\n",
    "plt.xscale('log')\n",
    "plt.ylabel('PGA cm/s^2')\n",
    "plt.xlabel('Dist km')\n",
    "plt.title('usp000a1b0')\n",
    "ax.set_xlim(1,1000)\n",
    "ax.set_ylim(0.1,5000)\n",
    "plt.show()\n",
    "#plt.savefig('/Users/tnye/PROJECTS/Duration/data/usp000g9h6/figures/PGA_dist.png', dpi=300)"
   ]
  },
  {
   "cell_type": "markdown",
   "metadata": {},
   "source": [
    "Get Ia and CAV for knet files"
   ]
  },
  {
   "cell_type": "code",
   "execution_count": 10,
   "metadata": {},
   "outputs": [],
   "source": [
    "for sta in stations:\n",
    "    for i in range(len(sta)):\n",
    "        trace = sta[i]\n",
    "        acc = np.multiply(0.01, trace.data)\n",
    "        Ia, NIa, = arias_intensity.get_arias_intensity(acc,\n",
    "                                                       0.01, trace.stats.P_arriv)\n",
    "        newIa, newNIa, = arias_intensity.get_arias_intensity(acc,\n",
    "                                                       0.01, 0)\n",
    "        trace.stats.Ia = Ia\n",
    "        trace.stats.NIa = NIa\n",
    "        trace.stats.maxIa = np.amax(Ia)\n",
    "        trace.stats.filt_Ia = np.amax(newIa)\n",
    "        \n",
    "        time1 = arias_intensity.get_time_from_percent(NIa, 0.05, dt)\n",
    "        time2 = arias_intensity.get_time_from_percent(NIa, 0.95, dt)\n",
    "        trace.stats.arias5 = time1\n",
    "        trace.stats.arias95 = time2        "
   ]
  },
  {
   "cell_type": "code",
   "execution_count": 21,
   "metadata": {},
   "outputs": [
    {
     "name": "stdout",
     "output_type": "stream",
     "text": [
      "12500\n"
     ]
    }
   ],
   "source": [
    "NIa = stations[0][0].stats.NIa\n",
    "npts = len(NIa)\n",
    "t = np.linspace(0, (npts-1)*dt, num=npts)\n",
    "\n",
    "#time = t[np.argmin(np.abs(0.95-NIa))]\n",
    "#print(time)"
   ]
  },
  {
   "cell_type": "code",
   "execution_count": 16,
   "metadata": {},
   "outputs": [
    {
     "name": "stdout",
     "output_type": "stream",
     "text": [
      "4.359325317273259\n"
     ]
    }
   ],
   "source": [
    "i = 5\n",
    "acc1 = np.multiply(0.01, stations[i][0].data)\n",
    "Int = integrate.cumtrapz(acc1*acc1, dx=dt, initial=stations[i][0].stats.P_arriv)\n",
    "Ia = Int * np.pi/(2*sp.g)\n",
    "arias = np.amax(Ia)\n",
    "NIa = Ia/np.amax(Ia)\n",
    "print(arias)"
   ]
  },
  {
   "cell_type": "code",
   "execution_count": null,
   "metadata": {},
   "outputs": [],
   "source": []
  },
  {
   "cell_type": "code",
   "execution_count": 44,
   "metadata": {},
   "outputs": [
    {
     "data": {
      "image/png": "[encoded data removed]",
      "text/plain": [
       "<Figure size 468x540 with 3 Axes>"
      ]
     },
     "metadata": {},
     "output_type": "display_data"
    }
   ],
   "source": [
    "NIa = stations[0][0].stats.NIa\n",
    "npts = len(NIa)\n",
    "t = np.linspace(0, (npts-1)*dt, num=npts)\n",
    "durations = [(0.05, 0.75),\n",
    "             (0.2, 0.8),\n",
    "             (0.05, .95)]\n",
    "f, axes = plt.subplots(len(durations), 1, sharex=True,\n",
    "                           figsize=(6.5, 7.5))\n",
    "ax = axes[0]\n",
    "ax.plot(t, NIa, 'k-')\n",
    "ax.xlim = 100\n",
    "#if xlab:\n",
    "    #ax.set_xlabel('Time (s)')\n",
    "ax.set_ylabel('Norm Arias Intensity (m/s)')\n",
    "for i in range(len(durations)):\n",
    "    p1 = durations[i][0]\n",
    "    p2 = durations[i][1]\n",
    "    t1 = arias_intensity.get_time_from_percent(NIa, p1, dt)\n",
    "    t2 = arias_intensity.get_time_from_percent(NIa, p2, dt)\n",
    "    height = (1/(len(durations)+1) * i) + 1/(len(durations)+1)\n",
    "    ax.plot(t1, p1, 'ok')\n",
    "    ax.plot(t2, p2, 'ok')\n",
    "    ax.annotate('', xy=(t2, height), xytext=(t1, height),\n",
    "                arrowprops=dict(arrowstyle='<->'))\n",
    "    # plt.text(xmax-10, height, '$D_{5-75}=7.1s$', style='italic')\n",
    "    # plt.text(xmax-10, height, '$D_{5-95}=18.4s$', style='italic')\n",
    "    # plt.text(xmax-10, height, durations[i], style='italic')\n",
    "    label = '$D_{%i{-}%i}$' % (100 * durations[i][0],\n",
    "                                100 * durations[i][1])\n",
    "    ax.text(t2, height, label, style='italic',\n",
    "            horizontalalignment='left',\n",
    "            verticalalignment='center')"
   ]
  },
  {
   "cell_type": "code",
   "execution_count": 25,
   "metadata": {},
   "outputs": [
    {
     "data": {
      "text/plain": [
       "array([7.88531592e+00, 2.86607269e-11, 3.01057516e-11, ...,\n",
       "       1.62207222e-03, 1.62207740e-03, 1.62208212e-03])"
      ]
     },
     "execution_count": 25,
     "metadata": {},
     "output_type": "execute_result"
    }
   ],
   "source": [
    "stations[0][0].stats.Ia"
   ]
  },
  {
   "cell_type": "code",
   "execution_count": 28,
   "metadata": {},
   "outputs": [
    {
     "data": {
      "text/plain": [
       "array([0.0000e+00, 2.0000e-02, 4.0000e-02, ..., 2.4994e+02, 2.4996e+02,\n",
       "       2.4998e+02])"
      ]
     },
     "execution_count": 28,
     "metadata": {},
     "output_type": "execute_result"
    }
   ],
   "source": [
    "t"
   ]
  },
  {
   "cell_type": "code",
   "execution_count": 11,
   "metadata": {},
   "outputs": [
    {
     "data": {
      "text/plain": [
       "11900"
      ]
     },
     "execution_count": 11,
     "metadata": {},
     "output_type": "execute_result"
    }
   ],
   "source": [
    "len(t)"
   ]
  },
  {
   "cell_type": "code",
   "execution_count": 12,
   "metadata": {},
   "outputs": [
    {
     "data": {
      "text/plain": [
       "12500"
      ]
     },
     "execution_count": 12,
     "metadata": {},
     "output_type": "execute_result"
    }
   ],
   "source": [
    "len(stations[0][0].stats.Ia)"
   ]
  },
  {
   "cell_type": "code",
   "execution_count": 59,
   "metadata": {},
   "outputs": [],
   "source": [
    "maxIa = []\n",
    "filt_Ia = []\n",
    "duration = []\n",
    "for trace in sorted_test:\n",
    "    arias = trace.stats.Ia\n",
    "    filt = trace.stats.filt_Ia\n",
    "    dur = (trace.stats.arias95 - trace.stats.arias5)\n",
    "    maxIa.append(arias)\n",
    "    filt_Ia.append(filt)\n",
    "    duration.append(dur)\n",
    "\n",
    "arias = np.array(maxIa)\n",
    "filt_arias = np.array(filt_Ia)\n",
    "durations = np.array(duration)"
   ]
  },
  {
   "cell_type": "code",
   "execution_count": null,
   "metadata": {},
   "outputs": [],
   "source": [
    "for sta in stations:\n",
    "    for i in range(len(sta)):\n",
    "        trace = sta[i]\n",
    "        CAVacc = trace.data\n",
    "        cav, cav5, cavstd = CAV.get_CAV(CAVacc, trace.stats['delta'])\n",
    "        trace.stats.CAV = cav\n",
    "        trace.stats.CAV5 = cav5\n",
    "        trace.stats.CAVstd = cavstd"
   ]
  },
  {
   "cell_type": "markdown",
   "metadata": {},
   "source": [
    "Arias Intensity with P-arrivals"
   ]
  },
  {
   "cell_type": "code",
   "execution_count": 81,
   "metadata": {},
   "outputs": [
    {
     "data": {
      "image/png": "[encoded data removed]",
      "text/plain": [
       "<Figure size 360x288 with 1 Axes>"
      ]
     },
     "metadata": {},
     "output_type": "display_data"
    },
    {
     "data": {
      "text/plain": [
       "<Figure size 432x288 with 0 Axes>"
      ]
     },
     "metadata": {},
     "output_type": "display_data"
    }
   ],
   "source": [
    "fig = plt.figure(figsize=(5,4))\n",
    "ax = fig.add_subplot(111)\n",
    "plt.scatter(DIST, arias, s=20, c='b', label='Unfiltered Arias')\n",
    "plt.scatter(DIST, filt_arias, s=10, c='g', label='Filtered Arias')\n",
    "\n",
    "plt.yscale('log')\n",
    "plt.xscale('log')\n",
    "plt.ylabel('Arias Intensity')\n",
    "plt.xlabel('Dist km')\n",
    "plt.title('usp000a1b0')\n",
    "ax.set_xlim(1,500)\n",
    "ax.set_ylim(0.1,5)\n",
    "plt.legend(loc='upper left')\n",
    "plt.show()\n",
    "plt.savefig('/Users/tnye/PROJECTS/Duration/data/usp000a1b0/figures/arias.png', dpi=300)"
   ]
  },
  {
   "cell_type": "markdown",
   "metadata": {},
   "source": [
    "Add data to spreadsheet"
   ]
  },
  {
   "cell_type": "code",
   "execution_count": 12,
   "metadata": {},
   "outputs": [],
   "source": [
    "df = pd.read_csv('/Users/tnye/PROJECTS/Duration/code/temp.csv')"
   ]
  },
  {
   "cell_type": "code",
   "execution_count": 13,
   "metadata": {},
   "outputs": [],
   "source": [
    "event_ids = []\n",
    "mags = []\n",
    "depths = []\n",
    "source_lats = []\n",
    "source_lons = []\n",
    "station_names = []\n",
    "elevations = []\n",
    "station_lats = []\n",
    "station_lons = []\n",
    "distances = []\n",
    "Ias = []\n",
    "CAVs = []\n",
    "CAV5s = []\n",
    "CAVstds = []\n",
    "for i in range(len(stations)):\n",
    "        event_id = stations[i][0].stats['eventID']\n",
    "        mag = stations[i][0].stats['mag']\n",
    "        depth = stations[i][0].stats['source_depth']\n",
    "        source_lat = stations[i][0].stats['source_lat']\n",
    "        source_lon = stations[i][0].stats['source_lon']\n",
    "        station_name = stations[i][0].stats['station']\n",
    "        elevation = stations[i][0].stats['knet']['stel']\n",
    "        station_lat = stations[i][0].stats['knet']['stla']\n",
    "        station_lon = stations[i][0].stats['knet']['stlo']\n",
    "        distance = stations[i][0].stats['rdist']\n",
    "        Ia = (math.sqrt(stations[i][0].stats['Ia'] *\n",
    "                        stations[i][0].stats['Ia']))\n",
    "        CAV = (math.sqrt(stations[i][0].stats['CAV'] *\n",
    "                         stations[i][0].stats['CAV']))\n",
    "        CAV5 = (math.sqrt(stations[i][0].stats['CAV5'] *\n",
    "                          stations[i][0].stats['CAV5']))\n",
    "        CAVstd = (math.sqrt(stations[i][0].stats['CAVstd'] *\n",
    "                            stations[i][0].stats['CAVstd']))\n",
    "\n",
    "        event_ids.append(event_id)\n",
    "        mags.append(mag)\n",
    "        depths.append(depth)\n",
    "        source_lats.append(source_lat)\n",
    "        source_lons.append(source_lon)\n",
    "        station_names.append(station_name)\n",
    "        elevations.append(elevation)\n",
    "        station_lats.append(station_lat)\n",
    "        station_lons.append(station_lon)\n",
    "        distances.append(distance)\n",
    "        Ias.append(Ia)\n",
    "        CAVs.append(CAV)\n",
    "        CAV5s.append(CAV5)\n",
    "        CAVstds.append(CAVstd)"
   ]
  },
  {
   "cell_type": "code",
   "execution_count": 24,
   "metadata": {},
   "outputs": [],
   "source": [
    "data = OrderedDict({'USGS_eventID': event_ids, 'magnitude': mags, 'depth(km)': depths,\n",
    "        'source_lat': source_lats, 'source_lon': source_lons,\n",
    "        'station_name': station_names, 'elev': elevations,\n",
    "        'station_lat': station_lats, 'station_lon': station_lons,\n",
    "        'rdist(km)': distances, 'Ia': Ias, 'CAV': CAVs,\n",
    "        'CAV5': CAV5s, 'CAVstd': CAVstds})"
   ]
  },
  {
   "cell_type": "code",
   "execution_count": null,
   "metadata": {},
   "outputs": [],
   "source": [
    "#print(Stream.__str__(sorted_stz, extended=True))"
   ]
  }
 ],
 "metadata": {
  "kernelspec": {
   "display_name": "Python 3",
   "language": "python",
   "name": "python3"
  },
  "language_info": {
   "codemirror_mode": {
    "name": "ipython",
    "version": 3
   },
   "file_extension": ".py",
   "mimetype": "text/x-python",
   "name": "python",
   "nbconvert_exporter": "python",
   "pygments_lexer": "ipython3",
   "version": "3.5.5"
  }
 },
 "nbformat": 4,
 "nbformat_minor": 2
}
