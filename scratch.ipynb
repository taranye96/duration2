{
 "cells": [
  {
   "cell_type": "code",
   "execution_count": 1,
   "metadata": {},
   "outputs": [],
   "source": [
    "# stdlib imports\n",
    "from datetime import datetime\n",
    "import os\n",
    "import re\n",
    "import warnings\n",
    "import sys\n",
    "import glob\n",
    "import math\n",
    "import scipy.constants as sp\n",
    "import pandas as pd\n",
    "\n",
    "from obspy.core.trace import Trace\n",
    "from obspy.core.stream import Stream\n",
    "from obspy.core.trace import Stats\n",
    "import numpy as np\n",
    "from scipy import integrate\n",
    "import matplotlib.pyplot as plt\n",
    "import processing\n",
    "import arias_intensity\n",
    "import CAV\n",
    "from amptools.io.knet.core import read_knet\n",
    "from amptools.stream import group_channels\n",
    "from obspy import UTCDateTime\n",
    "from libcomcat.search import get_event_by_id\n",
    "from obspy.geodetics import gps2dist_azimuth, kilometers2degrees\n",
    "from obspy.taup import TauPyModel\n",
    "from obspy import read\n",
    "from matplotlib.dates import date2num\n",
    "from matplotlib.pyplot import close\n",
    "from collections import OrderedDict\n",
    "warnings.filterwarnings('ignore')"
   ]
  },
  {
   "cell_type": "markdown",
   "metadata": {},
   "source": [
    "Northridge Earthquake"
   ]
  },
  {
   "cell_type": "code",
   "execution_count": 2,
   "metadata": {},
   "outputs": [],
   "source": [
    "data_dir = '/Users/tnye/PROJECTS/Duration/data/ci3144585/ground_motion'\n",
    "file_names = ['1994.c.017m30su.n0a',\n",
    "              '1994.c.017m30su.n0b',\n",
    "              '1994.c.017m30su.n0c']\n",
    "files = [os.path.join(data_dir, f) for f in file_names]\n",
    "stream = Stream()\n",
    "\n",
    "for i in range(len(files)):\n",
    "    cmp = processing.read_data(files[i], units='acc')[0]\n",
    "    stream.append(cmp)\n",
    "    \n",
    "for i, trace in enumerate(stream):\n",
    "    trace_stats = trace.stats\n",
    "    channel = trace.stats['channel']\n",
    "    dt = trace_stats.delta\n",
    "\n",
    "acc = trace.data"
   ]
  },
  {
   "cell_type": "code",
   "execution_count": 3,
   "metadata": {},
   "outputs": [],
   "source": [
    "os.chdir('/Users/tnye/PROJECTS/Duration/data/ci3144585/ground_motion')\n",
    "types = ('*.n0a', '*.n0b', '*.n0c')\n",
    "station = []\n",
    "for files in types:\n",
    "    station.extend(glob.glob(files))\n",
    "\n",
    "stream = Stream()\n",
    "\n",
    "for i in range(len(station)):\n",
    "    cmp = processing.read_data(station[i], units='acc')[0]\n",
    "    stream.append(cmp)"
   ]
  },
  {
   "cell_type": "markdown",
   "metadata": {},
   "source": [
    "Read Knet Data"
   ]
  },
  {
   "cell_type": "code",
   "execution_count": 4,
   "metadata": {},
   "outputs": [],
   "source": [
    "stream = Stream()\n",
    "trace = Trace()\n",
    "\n",
    "from obspy import read \n",
    "\n",
    "os.chdir(\"/Users/tnye/PROJECTS/Duration/data/usp000g9h6/ground_motion/knt\")\n",
    "types = ('*.EW', '*.NS', '*.UD')\n",
    "files_grabbed = []\n",
    "for files in types:\n",
    "    files_grabbed.extend(glob.glob(files))\n",
    "\n",
    "data = []\n",
    "for i in range(len(files_grabbed)):\n",
    "    data.append(read(files_grabbed[i]))\n",
    "    \n",
    "names = pd.read_csv('/Users/tnye/PROJECTS/Duration/data/usp000g9h6/ground_motion/knt/knt2008.csv')\n",
    "names_list = names.to_string(index = False)\n",
    "filtered_files = []\n",
    "for st in data:\n",
    "    for i in range(len(st)):\n",
    "        trace = st[i]\n",
    "        if trace.stats.station in names_list:\n",
    "            filtered_files.append([trace])\n",
    "\n",
    "stations = group_channels(filtered_files)\n",
    "\n",
    "for sta in stations:\n",
    "    sta.detrend('demean')\n",
    "\n",
    "# Add calibration to get data into gals (sm/s^2)\n",
    "for sta in stations:\n",
    "    for i in range(len(sta)):\n",
    "        trace = sta[i]\n",
    "        trace.data = trace.data * trace.stats.calib * 100\n",
    "\n",
    "# Set calibration to 1 to avoid double calibration when plotting.\n",
    "for sta in stations:\n",
    "    for i in range(len(sta)):\n",
    "        trace = sta[i]\n",
    "        trace.stats.calib = 1"
   ]
  },
  {
   "cell_type": "code",
   "execution_count": 5,
   "metadata": {},
   "outputs": [],
   "source": [
    "station_stats = []\n",
    "for i in range(len(stations)):\n",
    "    station = stations[i]\n",
    "    trace = station[0]\n",
    "    name = trace.stats['station']\n",
    "    stat_lat = trace.stats['knet']['stla']\n",
    "    stat_lon = trace.stats['knet']['stlo']\n",
    "    elev = trace.stats['knet']['evlo']\n",
    "    station_stats.append([name, stat_lat, stat_lon, elev])"
   ]
  },
  {
   "cell_type": "markdown",
   "metadata": {},
   "source": [
    "Get Earthquake Data"
   ]
  },
  {
   "cell_type": "code",
   "execution_count": 6,
   "metadata": {},
   "outputs": [],
   "source": [
    "event_id = 'usp000g9h6'\n",
    "detail = get_event_by_id(event_id)\n",
    "date = UTCDateTime(detail.time)\n",
    "mag = detail.magnitude\n",
    "source_lat = detail.latitude\n",
    "source_lon = detail.longitude\n",
    "depth = detail.depth\n",
    "\n",
    "# Add event stats to each trace in each station\n",
    "for sta in stations:\n",
    "    for i in range(len(sta)):\n",
    "        trace = sta[i]\n",
    "        eventID = event_id\n",
    "        magnitude = mag\n",
    "        source_depth = depth\n",
    "        event_lat = source_lat\n",
    "        event_lon = source_lon\n",
    "        \n",
    "        trace.stats.eventID = eventID\n",
    "        trace.stats.mag = magnitude\n",
    "        trace.stats.source_depth = source_depth\n",
    "        trace.stats.source_lat = event_lat\n",
    "        trace.stats.source_lon = event_lon"
   ]
  },
  {
   "cell_type": "markdown",
   "metadata": {},
   "source": [
    "Add Distance and P-arrivals to trace stats"
   ]
  },
  {
   "cell_type": "code",
   "execution_count": 7,
   "metadata": {},
   "outputs": [],
   "source": [
    "model = TauPyModel(model=\"iasp91\")\n",
    "for sta in stations:\n",
    "    for i in range(len(sta)):\n",
    "        trace = sta[i]\n",
    "        \n",
    "        # Compute distance\n",
    "        dist_az_baz = gps2dist_azimuth(\n",
    "            trace.stats['knet']['stla'],\n",
    "            trace.stats['knet']['stlo'],\n",
    "            trace.stats['knet']['evla'], \n",
    "            trace.stats['knet']['evlo'])\n",
    "        distance_meters = dist_az_baz[0]\n",
    "        distance_km = distance_meters/1000.0\n",
    "        dd = kilometers2degrees(distance_km)\n",
    "        #trace.stats.distance = distance_meters\n",
    "        trace.stats.rdist = distance_km\n",
    "        \n",
    "        # Estimated travel time for p wave\n",
    "        p = model.get_travel_times(depth, dd, phase_list=['p', 'P'])\n",
    "        trace.stats.P_arriv = p[0].time"
   ]
  },
  {
   "cell_type": "code",
   "execution_count": 8,
   "metadata": {},
   "outputs": [],
   "source": [
    "hcomp = Stream()\n",
    "for sta in stations:\n",
    "    newtrace = sta.select(channel='NS')\n",
    "    hcomp += newtrace\n",
    "\n",
    "sorted_hcomp = hcomp.sort(keys=['rdist'])"
   ]
  },
  {
   "cell_type": "markdown",
   "metadata": {},
   "source": [
    "Plot PGA vs distance from Source"
   ]
  },
  {
   "cell_type": "code",
   "execution_count": 9,
   "metadata": {},
   "outputs": [],
   "source": [
    "max_acc = []\n",
    "dist_source = []\n",
    "for trace in sorted_hcomp:\n",
    "    amax = trace.stats.knet.accmax\n",
    "    dist = trace.stats.rdist\n",
    "    max_acc.append(amax)\n",
    "    dist_source.append(dist)\n",
    "\n",
    "PGA = np.array(max_acc)\n",
    "DIST = np.array(dist_source)"
   ]
  },
  {
   "cell_type": "code",
   "execution_count": 10,
   "metadata": {},
   "outputs": [
    {
     "data": {
      "image/png": "[encoded data removed]",
      "text/plain": [
       "<Figure size 360x288 with 1 Axes>"
      ]
     },
     "metadata": {},
     "output_type": "display_data"
    },
    {
     "data": {
      "text/plain": [
       "<Figure size 432x288 with 0 Axes>"
      ]
     },
     "metadata": {},
     "output_type": "display_data"
    }
   ],
   "source": [
    "fig = plt.figure(figsize=(5,4))\n",
    "ax = fig.add_subplot(111)\n",
    "plt.scatter(DIST, PGA)\n",
    "plt.yscale('log')\n",
    "plt.xscale('log')\n",
    "plt.ylabel('PGA cm/s^2')\n",
    "plt.xlabel('Dist km')\n",
    "plt.title('usp000g9h6')\n",
    "ax.set_xlim(1,1000)\n",
    "ax.set_ylim(0.1,5000)\n",
    "plt.show()\n",
    "plt.savefig('/Users/tnye/PROJECTS/Duration/data/usp000g9h6/figures/PGA_dist.png', dpi=300)"
   ]
  },
  {
   "cell_type": "markdown",
   "metadata": {},
   "source": [
    "Get Ia and CAV for knet files"
   ]
  },
  {
   "cell_type": "code",
   "execution_count": 11,
   "metadata": {},
   "outputs": [
    {
     "ename": "ValueError",
     "evalue": "zero-size array to reduction operation maximum which has no identity",
     "output_type": "error",
     "traceback": [
      "\u001b[0;31m---------------------------------------------------------------------------\u001b[0m",
      "\u001b[0;31mValueError\u001b[0m                                Traceback (most recent call last)",
      "\u001b[0;32m<ipython-input-11-8b14a00cb333>\u001b[0m in \u001b[0;36m<module>\u001b[0;34m()\u001b[0m\n\u001b[1;32m      6\u001b[0m         \u001b[0macc\u001b[0m \u001b[0;34m=\u001b[0m \u001b[0mnp\u001b[0m\u001b[0;34m.\u001b[0m\u001b[0mmultiply\u001b[0m\u001b[0;34m(\u001b[0m\u001b[0;36m0.01\u001b[0m\u001b[0;34m,\u001b[0m \u001b[0mtrace\u001b[0m\u001b[0;34m.\u001b[0m\u001b[0mdata\u001b[0m\u001b[0;34m)\u001b[0m\u001b[0;34m\u001b[0m\u001b[0m\n\u001b[1;32m      7\u001b[0m         \u001b[0mIa\u001b[0m\u001b[0;34m,\u001b[0m \u001b[0mNIa\u001b[0m\u001b[0;34m,\u001b[0m \u001b[0;34m=\u001b[0m \u001b[0marias_intensity\u001b[0m\u001b[0;34m.\u001b[0m\u001b[0mget_arias_intensity\u001b[0m\u001b[0;34m(\u001b[0m\u001b[0macc\u001b[0m\u001b[0;34m,\u001b[0m \u001b[0;36m0.01\u001b[0m\u001b[0;34m,\u001b[0m \u001b[0;36m0\u001b[0m\u001b[0;34m)\u001b[0m\u001b[0;34m\u001b[0m\u001b[0m\n\u001b[0;32m----> 8\u001b[0;31m         \u001b[0mnewIa\u001b[0m\u001b[0;34m,\u001b[0m \u001b[0mnewNIa\u001b[0m \u001b[0;34m=\u001b[0m \u001b[0marias_intensity\u001b[0m\u001b[0;34m.\u001b[0m\u001b[0mget_arias_intensity\u001b[0m\u001b[0;34m(\u001b[0m\u001b[0macc\u001b[0m\u001b[0;34m,\u001b[0m \u001b[0;36m0.01\u001b[0m\u001b[0;34m,\u001b[0m \u001b[0mstarttime\u001b[0m\u001b[0;34m)\u001b[0m\u001b[0;34m\u001b[0m\u001b[0m\n\u001b[0m\u001b[1;32m      9\u001b[0m \u001b[0;34m\u001b[0m\u001b[0m\n\u001b[1;32m     10\u001b[0m         \u001b[0mtrace\u001b[0m\u001b[0;34m.\u001b[0m\u001b[0mstats\u001b[0m\u001b[0;34m.\u001b[0m\u001b[0mIa\u001b[0m \u001b[0;34m=\u001b[0m \u001b[0mIa\u001b[0m\u001b[0;34m\u001b[0m\u001b[0m\n",
      "\u001b[0;32m~/PROJECTS/Duration/code/arias_intensity.py\u001b[0m in \u001b[0;36mget_arias_intensity\u001b[0;34m(acc, dt, starttime)\u001b[0m\n\u001b[1;32m     42\u001b[0m     \u001b[0;31m# Calculate normalized Arias intensity\u001b[0m\u001b[0;34m\u001b[0m\u001b[0;34m\u001b[0m\u001b[0m\n\u001b[1;32m     43\u001b[0m     \u001b[0;31m# divide arias intensity by its max value\u001b[0m\u001b[0;34m\u001b[0m\u001b[0;34m\u001b[0m\u001b[0m\n\u001b[0;32m---> 44\u001b[0;31m     \u001b[0mNIa\u001b[0m \u001b[0;34m=\u001b[0m \u001b[0mIa\u001b[0m\u001b[0;34m/\u001b[0m\u001b[0mnp\u001b[0m\u001b[0;34m.\u001b[0m\u001b[0mamax\u001b[0m\u001b[0;34m(\u001b[0m\u001b[0mIa\u001b[0m\u001b[0;34m)\u001b[0m\u001b[0;34m\u001b[0m\u001b[0m\n\u001b[0m\u001b[1;32m     45\u001b[0m     \u001b[0;32mreturn\u001b[0m\u001b[0;34m(\u001b[0m\u001b[0mIa\u001b[0m\u001b[0;34m,\u001b[0m \u001b[0mNIa\u001b[0m\u001b[0;34m)\u001b[0m\u001b[0;34m\u001b[0m\u001b[0m\n\u001b[1;32m     46\u001b[0m \u001b[0;34m\u001b[0m\u001b[0m\n",
      "\u001b[0;32m~/miniconda3/envs/research/lib/python3.5/site-packages/numpy/core/fromnumeric.py\u001b[0m in \u001b[0;36mamax\u001b[0;34m(a, axis, out, keepdims)\u001b[0m\n\u001b[1;32m   2318\u001b[0m \u001b[0;34m\u001b[0m\u001b[0m\n\u001b[1;32m   2319\u001b[0m     return _methods._amax(a, axis=axis,\n\u001b[0;32m-> 2320\u001b[0;31m                           out=out, **kwargs)\n\u001b[0m\u001b[1;32m   2321\u001b[0m \u001b[0;34m\u001b[0m\u001b[0m\n\u001b[1;32m   2322\u001b[0m \u001b[0;34m\u001b[0m\u001b[0m\n",
      "\u001b[0;32m~/miniconda3/envs/research/lib/python3.5/site-packages/numpy/core/_methods.py\u001b[0m in \u001b[0;36m_amax\u001b[0;34m(a, axis, out, keepdims)\u001b[0m\n\u001b[1;32m     24\u001b[0m \u001b[0;31m# small reductions\u001b[0m\u001b[0;34m\u001b[0m\u001b[0;34m\u001b[0m\u001b[0m\n\u001b[1;32m     25\u001b[0m \u001b[0;32mdef\u001b[0m \u001b[0m_amax\u001b[0m\u001b[0;34m(\u001b[0m\u001b[0ma\u001b[0m\u001b[0;34m,\u001b[0m \u001b[0maxis\u001b[0m\u001b[0;34m=\u001b[0m\u001b[0;32mNone\u001b[0m\u001b[0;34m,\u001b[0m \u001b[0mout\u001b[0m\u001b[0;34m=\u001b[0m\u001b[0;32mNone\u001b[0m\u001b[0;34m,\u001b[0m \u001b[0mkeepdims\u001b[0m\u001b[0;34m=\u001b[0m\u001b[0;32mFalse\u001b[0m\u001b[0;34m)\u001b[0m\u001b[0;34m:\u001b[0m\u001b[0;34m\u001b[0m\u001b[0m\n\u001b[0;32m---> 26\u001b[0;31m     \u001b[0;32mreturn\u001b[0m \u001b[0mumr_maximum\u001b[0m\u001b[0;34m(\u001b[0m\u001b[0ma\u001b[0m\u001b[0;34m,\u001b[0m \u001b[0maxis\u001b[0m\u001b[0;34m,\u001b[0m \u001b[0;32mNone\u001b[0m\u001b[0;34m,\u001b[0m \u001b[0mout\u001b[0m\u001b[0;34m,\u001b[0m \u001b[0mkeepdims\u001b[0m\u001b[0;34m)\u001b[0m\u001b[0;34m\u001b[0m\u001b[0m\n\u001b[0m\u001b[1;32m     27\u001b[0m \u001b[0;34m\u001b[0m\u001b[0m\n\u001b[1;32m     28\u001b[0m \u001b[0;32mdef\u001b[0m \u001b[0m_amin\u001b[0m\u001b[0;34m(\u001b[0m\u001b[0ma\u001b[0m\u001b[0;34m,\u001b[0m \u001b[0maxis\u001b[0m\u001b[0;34m=\u001b[0m\u001b[0;32mNone\u001b[0m\u001b[0;34m,\u001b[0m \u001b[0mout\u001b[0m\u001b[0;34m=\u001b[0m\u001b[0;32mNone\u001b[0m\u001b[0;34m,\u001b[0m \u001b[0mkeepdims\u001b[0m\u001b[0;34m=\u001b[0m\u001b[0;32mFalse\u001b[0m\u001b[0;34m)\u001b[0m\u001b[0;34m:\u001b[0m\u001b[0;34m\u001b[0m\u001b[0m\n",
      "\u001b[0;31mValueError\u001b[0m: zero-size array to reduction operation maximum which has no identity"
     ]
    }
   ],
   "source": [
    "dt = 0.01\n",
    "for sta in stations:\n",
    "    for i in range(len(sta)):\n",
    "        trace = sta[i]\n",
    "        starttime = trace.stats.P_arriv\n",
    "        acc = np.multiply(0.01, trace.data)\n",
    "        Ia, NIa, = arias_intensity.get_arias_intensity(acc, 0.01, 0)\n",
    "        newIa, newNIa = arias_intensity.get_arias_intensity(acc, 0.01, starttime)\n",
    "\n",
    "        trace.stats.Ia = Ia\n",
    "        trace.stats.NIa = NIa\n",
    "        trace.stats.maxIa = np.amax(Ia)\n",
    "        trace.stats.PIa = newIa\n",
    "        trace.stats.PNIa = newNIa\n",
    "        trace.stats.maxPIa = np.amax(newIa)\n",
    "        \n",
    "        time1 = arias_intensity.get_time_from_percent(NIa, 0.05, dt)\n",
    "        time2 = arias_intensity.get_time_from_percent(NIa, 0.95, dt)\n",
    "        trace.stats.arias5 = time1\n",
    "        trace.stats.arias95 = time2    \n"
   ]
  },
  {
   "cell_type": "code",
   "execution_count": 24,
   "metadata": {},
   "outputs": [],
   "source": [
    "trace = stations[0][0]\n",
    "starttime = trace.stats.P_arriv\n",
    "g = sp.g\n",
    "npts = len(trace.data)\n",
    "t = np.linspace(0, (npts-1)*dt, num=npts)\n",
    "acc = np.multiply(trace.data, 0.01)\n",
    "    \n",
    "# Choose acceleration values starting at the specificed starttime\n",
    "acc2 = acc[t >= starttime]\n",
    "    \n",
    "# Calculate Arias intensity \n",
    "Int = integrate.cumtrapz(acc2*acc2, dx=dt)\n",
    "Ia = Int * np.pi/(2*g)\n",
    "\n",
    "# Calculate normalized Arias intensity\n",
    "# divide arias intensity by its max value\n",
    "NIa = Ia/np.amax(Ia)"
   ]
  },
  {
   "cell_type": "code",
   "execution_count": null,
   "metadata": {},
   "outputs": [],
   "source": []
  },
  {
   "cell_type": "code",
   "execution_count": null,
   "metadata": {},
   "outputs": [],
   "source": []
  },
  {
   "cell_type": "code",
   "execution_count": 17,
   "metadata": {},
   "outputs": [
    {
     "data": {
      "image/png": "[encoded data removed]",
      "text/plain": [
       "<Figure size 432x288 with 1 Axes>"
      ]
     },
     "metadata": {},
     "output_type": "display_data"
    }
   ],
   "source": [
    "NIa = stations[10][0].stats.NIa\n",
    "npts = len(NIa)\n",
    "t = np.linspace(0, (npts-1)*dt, num=npts)\n",
    "durations = [(0.05, 0.75),\n",
    "             (0.2, 0.8),\n",
    "             (0.05, .95)]\n",
    "f, axes = plt.subplots(1, 1, sharex=True)\n",
    "arias_intensity.plot_durations(NIa, dt, durations, axes, xlab=True)"
   ]
  },
  {
   "cell_type": "code",
   "execution_count": null,
   "metadata": {},
   "outputs": [],
   "source": []
  },
  {
   "cell_type": "code",
   "execution_count": 18,
   "metadata": {},
   "outputs": [],
   "source": [
    "#maxIa = []\n",
    "maxPIa = []\n",
    "duration = []\n",
    "ratio = []\n",
    "for trace in sorted_hcomp:\n",
    "    #arias = trace.stats.maxIa\n",
    "    #Parias = trace.stats.maxPIa\n",
    "    #dur = (trace.stats.arias95 - trace.stats.arias5)\n",
    "    Aratio = (Parias / arias)\n",
    "    #maxIa.append(arias)\n",
    "    maxPIa.append(Parias)\n",
    "    duration.append(dur)\n",
    "    ratio.append(Aratio)\n",
    "\n",
    "#arias = np.array(maxIa)\n",
    "#Parias = np.array(maxPIa)\n",
    "durations = np.array(duration)\n",
    "ratios = np.array(ratio)"
   ]
  },
  {
   "cell_type": "code",
   "execution_count": null,
   "metadata": {},
   "outputs": [],
   "source": [
    "for sta in stations:\n",
    "    for i in range(len(sta)):\n",
    "        trace = sta[i]\n",
    "        CAVacc = trace.data\n",
    "        cav, cav5, cavstd = CAV.get_CAV(CAVacc, trace.stats['delta'], 0)\n",
    "        trace.stats.CAV = cav\n",
    "        trace.stats.CAV5 = cav5\n",
    "        trace.stats.CAVstd = cavstd"
   ]
  },
  {
   "cell_type": "markdown",
   "metadata": {},
   "source": [
    "Arias Intensity with P-arrivals"
   ]
  },
  {
   "cell_type": "code",
   "execution_count": 12,
   "metadata": {},
   "outputs": [
    {
     "ename": "NameError",
     "evalue": "name 'arias' is not defined",
     "output_type": "error",
     "traceback": [
      "\u001b[0;31m---------------------------------------------------------------------------\u001b[0m",
      "\u001b[0;31mNameError\u001b[0m                                 Traceback (most recent call last)",
      "\u001b[0;32m<ipython-input-12-6a7d21d61d94>\u001b[0m in \u001b[0;36m<module>\u001b[0;34m()\u001b[0m\n\u001b[1;32m      1\u001b[0m \u001b[0mfig\u001b[0m \u001b[0;34m=\u001b[0m \u001b[0mplt\u001b[0m\u001b[0;34m.\u001b[0m\u001b[0mfigure\u001b[0m\u001b[0;34m(\u001b[0m\u001b[0mfigsize\u001b[0m\u001b[0;34m=\u001b[0m\u001b[0;34m(\u001b[0m\u001b[0;36m5\u001b[0m\u001b[0;34m,\u001b[0m\u001b[0;36m4\u001b[0m\u001b[0;34m)\u001b[0m\u001b[0;34m)\u001b[0m\u001b[0;34m\u001b[0m\u001b[0m\n\u001b[1;32m      2\u001b[0m \u001b[0max\u001b[0m \u001b[0;34m=\u001b[0m \u001b[0mfig\u001b[0m\u001b[0;34m.\u001b[0m\u001b[0madd_subplot\u001b[0m\u001b[0;34m(\u001b[0m\u001b[0;36m111\u001b[0m\u001b[0;34m)\u001b[0m\u001b[0;34m\u001b[0m\u001b[0m\n\u001b[0;32m----> 3\u001b[0;31m \u001b[0mplt\u001b[0m\u001b[0;34m.\u001b[0m\u001b[0mscatter\u001b[0m\u001b[0;34m(\u001b[0m\u001b[0mDIST\u001b[0m\u001b[0;34m,\u001b[0m \u001b[0marias\u001b[0m\u001b[0;34m,\u001b[0m \u001b[0ms\u001b[0m\u001b[0;34m=\u001b[0m\u001b[0;36m20\u001b[0m\u001b[0;34m,\u001b[0m \u001b[0mc\u001b[0m\u001b[0;34m=\u001b[0m\u001b[0;34m'b'\u001b[0m\u001b[0;34m,\u001b[0m \u001b[0mlabel\u001b[0m\u001b[0;34m=\u001b[0m\u001b[0;34m'Unfiltered Arias'\u001b[0m\u001b[0;34m)\u001b[0m\u001b[0;34m\u001b[0m\u001b[0m\n\u001b[0m\u001b[1;32m      4\u001b[0m \u001b[0mplt\u001b[0m\u001b[0;34m.\u001b[0m\u001b[0mscatter\u001b[0m\u001b[0;34m(\u001b[0m\u001b[0mDIST\u001b[0m\u001b[0;34m,\u001b[0m \u001b[0mParias\u001b[0m\u001b[0;34m,\u001b[0m \u001b[0ms\u001b[0m\u001b[0;34m=\u001b[0m\u001b[0;36m10\u001b[0m\u001b[0;34m,\u001b[0m \u001b[0mc\u001b[0m\u001b[0;34m=\u001b[0m\u001b[0;34m'g'\u001b[0m\u001b[0;34m,\u001b[0m \u001b[0mlabel\u001b[0m\u001b[0;34m=\u001b[0m\u001b[0;34m'Filtered Arias'\u001b[0m\u001b[0;34m)\u001b[0m\u001b[0;34m\u001b[0m\u001b[0m\n\u001b[1;32m      5\u001b[0m \u001b[0;34m\u001b[0m\u001b[0m\n",
      "\u001b[0;31mNameError\u001b[0m: name 'arias' is not defined"
     ]
    },
    {
     "data": {
      "image/png": "[encoded data removed]",
      "text/plain": [
       "<Figure size 360x288 with 1 Axes>"
      ]
     },
     "metadata": {},
     "output_type": "display_data"
    }
   ],
   "source": [
    "fig = plt.figure(figsize=(5,4))\n",
    "ax = fig.add_subplot(111)\n",
    "plt.scatter(DIST, arias, s=20, c='b', label='Unfiltered Arias')\n",
    "plt.scatter(DIST, Parias, s=10, c='g', label='Filtered Arias')\n",
    "\n",
    "plt.yscale('log')\n",
    "plt.xscale('log')\n",
    "plt.ylabel('Arias Intensity')\n",
    "plt.xlabel('Dist km')\n",
    "plt.title('usp000g9h6')\n",
    "ax.set_xlim(1,500)\n",
    "ax.set_ylim(0.1,5)\n",
    "plt.legend(loc='upper left')\n",
    "plt.show()\n",
    "plt.savefig('/Users/tnye/PROJECTS/Duration/data/usp000g9h6/figures/arias.png', dpi=300)"
   ]
  },
  {
   "cell_type": "code",
   "execution_count": 27,
   "metadata": {},
   "outputs": [
    {
     "data": {
      "image/png": "[encoded data removed]",
      "text/plain": [
       "<Figure size 360x288 with 1 Axes>"
      ]
     },
     "metadata": {},
     "output_type": "display_data"
    },
    {
     "data": {
      "text/plain": [
       "<Figure size 432x288 with 0 Axes>"
      ]
     },
     "metadata": {},
     "output_type": "display_data"
    }
   ],
   "source": [
    "fig = plt.figure(figsize=(5,4))\n",
    "ax = fig.add_subplot(111)\n",
    "plt.scatter(DIST, ratios, s=20, c='k')\n",
    "plt.yscale('log')\n",
    "plt.xscale('log')\n",
    "plt.ylabel('Arias w P-arriv : Arias')\n",
    "plt.xlabel('Dist km')\n",
    "plt.title('usp000a1b0')\n",
    "plt.show()\n",
    "plt.savefig('/Users/tnye/PROJECTS/Duration/data/usp000a1b0/figures/Arias_ratio.png', dpi=300)"
   ]
  },
  {
   "cell_type": "code",
   "execution_count": null,
   "metadata": {},
   "outputs": [],
   "source": []
  },
  {
   "cell_type": "code",
   "execution_count": null,
   "metadata": {},
   "outputs": [],
   "source": []
  },
  {
   "cell_type": "code",
   "execution_count": null,
   "metadata": {},
   "outputs": [],
   "source": []
  },
  {
   "cell_type": "code",
   "execution_count": null,
   "metadata": {},
   "outputs": [],
   "source": []
  },
  {
   "cell_type": "code",
   "execution_count": null,
   "metadata": {},
   "outputs": [],
   "source": []
  },
  {
   "cell_type": "code",
   "execution_count": null,
   "metadata": {},
   "outputs": [],
   "source": [
    "#print(Stream.__str__(sorted_stz, extended=True))"
   ]
  }
 ],
 "metadata": {
  "kernelspec": {
   "display_name": "Python 3",
   "language": "python",
   "name": "python3"
  },
  "language_info": {
   "codemirror_mode": {
    "name": "ipython",
    "version": 3
   },
   "file_extension": ".py",
   "mimetype": "text/x-python",
   "name": "python",
   "nbconvert_exporter": "python",
   "pygments_lexer": "ipython3",
   "version": "3.5.5"
  }
 },
 "nbformat": 4,
 "nbformat_minor": 2
}
